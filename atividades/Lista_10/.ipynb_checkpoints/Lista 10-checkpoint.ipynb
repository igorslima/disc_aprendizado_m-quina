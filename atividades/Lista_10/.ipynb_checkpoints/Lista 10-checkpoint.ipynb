{
 "cells": [
  {
   "cell_type": "code",
   "execution_count": 1,
   "metadata": {},
   "outputs": [],
   "source": [
    "import pandas as pd\n",
    "import numpy as np\n",
    "from sklearn.model_selection import train_test_split\n",
    "from sklearn import linear_model\n",
    "from sklearn.preprocessing import StandardScaler\n",
    "from sklearn.metrics import accuracy_score"
   ]
  },
  {
   "cell_type": "code",
   "execution_count": 2,
   "metadata": {},
   "outputs": [],
   "source": [
    "import warnings\n",
    "warnings.simplefilter(action='ignore', category=FutureWarning)"
   ]
  },
  {
   "cell_type": "code",
   "execution_count": 3,
   "metadata": {},
   "outputs": [],
   "source": [
    "dataframe = pd.read_csv(\"binary.csv\")"
   ]
  },
  {
   "cell_type": "code",
   "execution_count": 4,
   "metadata": {},
   "outputs": [],
   "source": [
    "X = dataframe[['gre', 'gpa', 'rank']]\n",
    "y = dataframe['admit']"
   ]
  },
  {
   "cell_type": "code",
   "execution_count": 12,
   "metadata": {},
   "outputs": [],
   "source": [
    "X_train, X_test, y_train, y_test = train_test_split(X,y, stratify=y, test_size=0.30, random_state=42)"
   ]
  },
  {
   "cell_type": "markdown",
   "metadata": {},
   "source": [
    "Obtenha e compare os coeficientes (coef_ e intercept_) usando modelos com diferentes penalidades / regularizações:"
   ]
  },
  {
   "cell_type": "code",
   "execution_count": 6,
   "metadata": {},
   "outputs": [],
   "source": [
    "stdsc = StandardScaler()\n",
    "X_train_std = stdsc.fit_transform(X_train)\n",
    "X_test_std = stdsc.transform(X_test)"
   ]
  },
  {
   "cell_type": "code",
   "execution_count": 7,
   "metadata": {},
   "outputs": [
    {
     "name": "stdout",
     "output_type": "stream",
     "text": [
      "accuracy_score:0.5083333333333333\n",
      "intercept_:\n",
      "[3.40628323]\n",
      "coef_:\n",
      "[[ 4.07354881  1.70586347 -3.23681358]]\n"
     ]
    }
   ],
   "source": [
    "# sem penalidade\n",
    "model = linear_model.SGDClassifier(penalty='none', random_state=0)\n",
    "model.fit(X_train_std, y_train)\n",
    "y_pred = model.predict(X_test_std)\n",
    "print('accuracy_score:{}\\nintercept_:\\n{}\\ncoef_:\\n{}'.format(accuracy_score(y_test, y_pred), model.intercept_, model.coef_))"
   ]
  },
  {
   "cell_type": "code",
   "execution_count": 8,
   "metadata": {},
   "outputs": [
    {
     "name": "stdout",
     "output_type": "stream",
     "text": [
      "accuracy_score:0.5083333333333333\n",
      "intercept_:\n",
      "[3.62631271]\n",
      "coef_:\n",
      "[[ 4.92656849  1.03196634 -2.5324446 ]]\n"
     ]
    }
   ],
   "source": [
    "# com penalidade l1\n",
    "model_l1 = linear_model.SGDClassifier(penalty='l1', random_state=0)\n",
    "model_l1.fit(X_train_std, y_train)\n",
    "y_pred = model_l1.predict(X_test_std)\n",
    "print('accuracy_score:{}\\nintercept_:\\n{}\\ncoef_:\\n{}'.format(accuracy_score(y_test, y_pred), model_l1.intercept_, model_l1.coef_))"
   ]
  },
  {
   "cell_type": "code",
   "execution_count": 9,
   "metadata": {},
   "outputs": [
    {
     "name": "stdout",
     "output_type": "stream",
     "text": [
      "X.shape:(400, 3)\n",
      "np.unique(y):[0 1]\n",
      "accuracy_score:0.6416666666666667\n",
      "intercept_:\n",
      "[-0.22167468]\n",
      "coef_:\n",
      "[[ 3.12541954 -0.2568051  -2.16727294]]\n"
     ]
    }
   ],
   "source": [
    "# com penalidade l2\n",
    "model_l2 = linear_model.SGDClassifier(penalty='l2', random_state=0)\n",
    "model_l2.fit(X_train_std, y_train)\n",
    "y_pred = model_l2.predict(X_test_std)\n",
    "print('X.shape:{}'.format(X.shape))\n",
    "print('np.unique(y):{}'.format(np.unique(y)))\n",
    "print('accuracy_score:{}\\nintercept_:\\n{}\\ncoef_:\\n{}'.format(accuracy_score(y_test, y_pred), model_l2.intercept_, model_l2.coef_))"
   ]
  },
  {
   "cell_type": "code",
   "execution_count": 10,
   "metadata": {},
   "outputs": [
    {
     "name": "stdout",
     "output_type": "stream",
     "text": [
      "accuracy_score:0.44166666666666665\n",
      "intercept_:\n",
      "[7.89819919]\n",
      "coef_:\n",
      "[[ 2.50065045  4.94795678 -2.45861742]]\n"
     ]
    }
   ],
   "source": [
    "model_en = linear_model.SGDClassifier(penalty='elasticnet', random_state=0)\n",
    "model_en.fit(X_train_std, y_train)\n",
    "y_pred = model_en.predict(X_test_std)\n",
    "print('accuracy_score:{}\\nintercept_:\\n{}\\ncoef_:\\n{}'.format(accuracy_score(y_test, y_pred), model_en.intercept_, model_en.coef_))"
   ]
  },
  {
   "cell_type": "markdown",
   "metadata": {},
   "source": [
    "Para os experimentos com Regularização, crie também modelos variando a força da regularização (alpha). Use alpha com os seguintes valores: 0.0001, 0.01, 1, 10, 100."
   ]
  },
  {
   "cell_type": "code",
   "execution_count": 11,
   "metadata": {},
   "outputs": [
    {
     "name": "stdout",
     "output_type": "stream",
     "text": [
      "******   alpha = 0.0001  ******\n",
      "\n",
      "modelo com l1\n",
      "accuracy_score: 0.5083333333333333\n",
      "intercept: [3.62631271]\n",
      "coef_: [[ 4.92656849  1.03196634 -2.5324446 ]]\n",
      "\n",
      "modelo com l2\n",
      "accuracy_score: 0.5083333333333333\n",
      "intercept: [-0.22167468]\n",
      "coef_: [[ 3.12541954 -0.2568051  -2.16727294]]\n",
      "\n",
      "modelo com elastic net\n",
      "accuracy_score: 0.65\n",
      "intercept: [-3.62304034]\n",
      "coef_: [[ 0.25605601  5.1596418  -0.32971012]]\n",
      "\n",
      "******   alpha = 0.01  ******\n",
      "\n",
      "modelo com l1\n",
      "accuracy_score: 0.6833333333333333\n",
      "intercept: [-0.9252897]\n",
      "coef_: [[ 0.          0.         -0.03984293]]\n",
      "\n",
      "modelo com l2\n",
      "accuracy_score: 0.6833333333333333\n",
      "intercept: [-0.99591171]\n",
      "coef_: [[-0.04731102  0.10569639 -0.22124028]]\n",
      "\n",
      "modelo com elastic net\n",
      "accuracy_score: 0.675\n",
      "intercept: [-16.87667373]\n",
      "coef_: [[ 0.50072383 -4.64805586  5.91427037]]\n",
      "\n",
      "******   alpha = 1  ******\n",
      "\n",
      "modelo com l1\n",
      "accuracy_score: 0.6833333333333333\n",
      "intercept: [-0.99925628]\n",
      "coef_: [[0. 0. 0.]]\n",
      "\n",
      "modelo com l2\n",
      "accuracy_score: 0.6833333333333333\n",
      "intercept: [-0.99883472]\n",
      "coef_: [[-0.00151273  0.00050209 -0.00411768]]\n",
      "\n",
      "modelo com elastic net\n",
      "accuracy_score: 0.6583333333333333\n",
      "intercept: [-4.38772509]\n",
      "coef_: [[ 2.24065579  1.57568847 -0.31641869]]\n",
      "\n",
      "******   alpha = 10  ******\n",
      "\n",
      "modelo com l1\n",
      "accuracy_score: 0.6833333333333333\n",
      "intercept: [-0.91253183]\n",
      "coef_: [[0. 0. 0.]]\n",
      "\n",
      "modelo com l2\n",
      "accuracy_score: 0.6833333333333333\n",
      "intercept: [-0.91202482]\n",
      "coef_: [[ 0.01822087  0.01709662 -0.02182706]]\n",
      "\n",
      "modelo com elastic net\n",
      "accuracy_score: 0.6\n",
      "intercept: [-0.11586415]\n",
      "coef_: [[  1.96412769   6.09513321 -11.23046712]]\n",
      "\n",
      "******   alpha = 100  ******\n",
      "\n",
      "modelo com l1\n",
      "accuracy_score: 0.6833333333333333\n",
      "intercept: [-0.35290702]\n",
      "coef_: [[0. 0. 0.]]\n",
      "\n",
      "modelo com l2\n",
      "accuracy_score: 0.6833333333333333\n",
      "intercept: [-0.35290702]\n",
      "coef_: [[ 0.00190979  0.00178186 -0.00224419]]\n",
      "\n",
      "modelo com elastic net\n",
      "accuracy_score: 0.44166666666666665\n",
      "intercept: [4.52526017]\n",
      "coef_: [[ 2.91902101 -0.16640697 -4.68770204]]\n",
      "\n"
     ]
    }
   ],
   "source": [
    "regularizations_strength = [0.0001, 0.01, 1, 10, 100]\n",
    "for elem in regularizations_strength:\n",
    "    print(\"******   alpha = {}  ******\\n\".format(elem))\n",
    "\n",
    "    # modelo com l1\n",
    "    model_l1 = linear_model.SGDClassifier(penalty='l1', random_state=0, alpha=elem)\n",
    "    model_l1.fit(X_train_std, y_train)\n",
    "    y_pred = model_l1.predict(X_test_std)\n",
    "    print(\"modelo com l1\")\n",
    "    print('accuracy_score: {}'.format(accuracy_score(y_test, y_pred)))\n",
    "    print('intercept: {}'.format(model_l1.intercept_))\n",
    "    print('coef_: {}\\n'.format(model_l1.coef_))\n",
    "    \n",
    "    # modelo com l2\n",
    "    model_l2 = linear_model.SGDClassifier(penalty='l2', random_state=0, alpha=elem)\n",
    "    model_l2.fit(X_train_std, y_train)\n",
    "    y_pred = model_l1.predict(X_test_std)\n",
    "    print(\"modelo com l2\")\n",
    "    print('accuracy_score: {}'.format(accuracy_score(y_test, y_pred)))\n",
    "    print('intercept: {}'.format(model_l2.intercept_))\n",
    "    print('coef_: {}\\n'.format(model_l2.coef_))\n",
    "    \n",
    "    # modelo usando elastic net\n",
    "    model_elastic_net = linear_model.SGDClassifier(penalty='elasticnet')\n",
    "    model_elastic_net.fit(X_train_std, y_train)\n",
    "    y_pred = model_elastic_net.predict(X_test_std)\n",
    "    print(\"modelo com elastic net\")\n",
    "    print(\"accuracy_score: {}\".format(accuracy_score(y_test, y_pred)))\n",
    "    print(\"intercept: {}\".format(model_elastic_net.intercept_))\n",
    "    print(\"coef_: {}\\n\".format(model_elastic_net.coef_))"
   ]
  },
  {
   "cell_type": "code",
   "execution_count": null,
   "metadata": {},
   "outputs": [],
   "source": []
  }
 ],
 "metadata": {
  "kernelspec": {
   "display_name": "Python 3",
   "language": "python",
   "name": "python3"
  },
  "language_info": {
   "codemirror_mode": {
    "name": "ipython",
    "version": 3
   },
   "file_extension": ".py",
   "mimetype": "text/x-python",
   "name": "python",
   "nbconvert_exporter": "python",
   "pygments_lexer": "ipython3",
   "version": "3.6.4"
  }
 },
 "nbformat": 4,
 "nbformat_minor": 2
}
