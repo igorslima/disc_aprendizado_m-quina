{
 "cells": [
  {
   "cell_type": "code",
   "execution_count": 1,
   "metadata": {},
   "outputs": [],
   "source": [
    "import pandas as pd\n",
    "import numpy as np\n",
    "from sklearn.model_selection import train_test_split\n",
    "from sklearn import linear_model\n",
    "from sklearn.preprocessing import StandardScaler\n",
    "from sklearn.metrics import accuracy_score\n"
   ]
  },
  {
   "cell_type": "code",
   "execution_count": 2,
   "metadata": {},
   "outputs": [],
   "source": [
    "import warnings\n",
    "warnings.simplefilter(action='ignore', category=FutureWarning)"
   ]
  },
  {
   "cell_type": "code",
   "execution_count": 3,
   "metadata": {},
   "outputs": [],
   "source": [
    "dataframe = pd.read_csv(\"binary.csv\")"
   ]
  },
  {
   "cell_type": "code",
   "execution_count": 4,
   "metadata": {},
   "outputs": [],
   "source": [
    "X = dataframe[['gre', 'gpa', 'rank']]\n",
    "y = dataframe['admit']"
   ]
  },
  {
   "cell_type": "code",
   "execution_count": 5,
   "metadata": {},
   "outputs": [],
   "source": [
    "X_train, X_test, y_train, y_test = train_test_split(X,y, stratify=y, test_size=0.30, random_state=42)"
   ]
  },
  {
   "cell_type": "markdown",
   "metadata": {},
   "source": [
    "Obtenha e compare os coeficientes (coef_ e intercept_) usando modelos com diferentes penalidades / regularizações:"
   ]
  },
  {
   "cell_type": "code",
   "execution_count": 6,
   "metadata": {},
   "outputs": [],
   "source": [
    "stdsc = StandardScaler()\n",
    "X_train_std = stdsc.fit_transform(X_train)\n",
    "X_test_std = stdsc.transform(X_test)"
   ]
  },
  {
   "cell_type": "code",
   "execution_count": 19,
   "metadata": {},
   "outputs": [
    {
     "name": "stdout",
     "output_type": "stream",
     "text": [
      "accuracy_score:0.6833333333333333\n",
      "intercept_:\n",
      "[-0.99689864]\n",
      "coef_:\n",
      "[[ 0.05644248  0.07000314 -0.13338665]]\n"
     ]
    }
   ],
   "source": [
    "# sem penalidade\n",
    "model = linear_model.SGDClassifier(penalty='none', random_state=2, alpha=1, max_iter=100000)\n",
    "model.fit(X_train_std, y_train)\n",
    "y_pred = model.predict(X_test_std)\n",
    "print('accuracy_score:{}\\nintercept_:\\n{}\\ncoef_:\\n{}'.format(accuracy_score(y_test, y_pred), model.intercept_, model.coef_))"
   ]
  },
  {
   "cell_type": "code",
   "execution_count": 8,
   "metadata": {},
   "outputs": [
    {
     "name": "stdout",
     "output_type": "stream",
     "text": [
      "accuracy_score:0.5083333333333333\n",
      "intercept_:\n",
      "[3.62631271]\n",
      "coef_:\n",
      "[[ 4.92656849  1.03196634 -2.5324446 ]]\n"
     ]
    }
   ],
   "source": [
    "# com penalidade l1\n",
    "model_l1 = linear_model.SGDClassifier(penalty='l1', random_state=0)\n",
    "model_l1.fit(X_train_std, y_train)\n",
    "y_pred = model_l1.predict(X_test_std)\n",
    "print('accuracy_score:{}\\nintercept_:\\n{}\\ncoef_:\\n{}'.format(accuracy_score(y_test, y_pred), model_l1.intercept_, model_l1.coef_))"
   ]
  },
  {
   "cell_type": "code",
   "execution_count": 9,
   "metadata": {},
   "outputs": [
    {
     "name": "stdout",
     "output_type": "stream",
     "text": [
      "X.shape:(400, 3)\n",
      "np.unique(y):[0 1]\n",
      "accuracy_score:0.6416666666666667\n",
      "intercept_:\n",
      "[-0.22167468]\n",
      "coef_:\n",
      "[[ 3.12541954 -0.2568051  -2.16727294]]\n"
     ]
    }
   ],
   "source": [
    "# com penalidade l2\n",
    "model_l2 = linear_model.SGDClassifier(penalty='l2', random_state=0)\n",
    "model_l2.fit(X_train_std, y_train)\n",
    "y_pred = model_l2.predict(X_test_std)\n",
    "print('X.shape:{}'.format(X.shape))\n",
    "print('np.unique(y):{}'.format(np.unique(y)))\n",
    "print('accuracy_score:{}\\nintercept_:\\n{}\\ncoef_:\\n{}'.format(accuracy_score(y_test, y_pred), model_l2.intercept_, model_l2.coef_))"
   ]
  },
  {
   "cell_type": "code",
   "execution_count": 10,
   "metadata": {},
   "outputs": [
    {
     "name": "stdout",
     "output_type": "stream",
     "text": [
      "accuracy_score:0.44166666666666665\n",
      "intercept_:\n",
      "[7.89819919]\n",
      "coef_:\n",
      "[[ 2.50065045  4.94795678 -2.45861742]]\n"
     ]
    }
   ],
   "source": [
    "model_en = linear_model.SGDClassifier(penalty='elasticnet', random_state=0)\n",
    "model_en.fit(X_train_std, y_train)\n",
    "y_pred = model_en.predict(X_test_std)\n",
    "print('accuracy_score:{}\\nintercept_:\\n{}\\ncoef_:\\n{}'.format(accuracy_score(y_test, y_pred), model_en.intercept_, model_en.coef_))"
   ]
  },
  {
   "cell_type": "markdown",
   "metadata": {},
   "source": [
    "Para os experimentos com Regularização, crie também modelos variando a força da regularização (alpha). Use alpha com os seguintes valores: 0.0001, 0.01, 1, 10, 100."
   ]
  },
  {
   "cell_type": "code",
   "execution_count": 14,
   "metadata": {},
   "outputs": [
    {
     "name": "stdout",
     "output_type": "stream",
     "text": [
      "******   alpha = 0.0001  ******\n",
      "\n",
      "modelo com l1\n",
      "accuracy_score: 0.6833333333333333\n",
      "intercept: [-0.99977638]\n",
      "coef_: [[ 0.00432048  0.00096965 -0.00171951]]\n",
      "\n",
      "modelo com l2\n",
      "accuracy_score: 0.6833333333333333\n",
      "intercept: [-0.99984943]\n",
      "coef_: [[ 0.00439838  0.00095146 -0.00134044]]\n",
      "\n",
      "modelo com elastic net\n",
      "accuracy_score: 0.6833333333333333\n",
      "intercept: [-0.99992601]\n",
      "coef_: [[ 0.00371531  0.00064656 -0.00203015]]\n",
      "\n",
      "******   alpha = 0.01  ******\n",
      "\n",
      "modelo com l1\n",
      "accuracy_score: 0.6833333333333333\n",
      "intercept: [-0.99999545]\n",
      "coef_: [[ 3.11438707e-05  8.32092484e-07 -1.38136852e-05]]\n",
      "\n",
      "modelo com l2\n",
      "accuracy_score: 0.6833333333333333\n",
      "intercept: [-1.00000064]\n",
      "coef_: [[ 4.28663444e-05  8.29170962e-06 -1.36487932e-05]]\n",
      "\n",
      "modelo com elastic net\n",
      "accuracy_score: 0.6833333333333333\n",
      "intercept: [-0.99999633]\n",
      "coef_: [[ 3.24743127e-05  7.26501113e-06 -1.97364363e-05]]\n",
      "\n",
      "******   alpha = 1  ******\n",
      "\n",
      "modelo com l1\n",
      "accuracy_score: 0.6833333333333333\n",
      "intercept: [-1.00000004]\n",
      "coef_: [[0. 0. 0.]]\n",
      "\n",
      "modelo com l2\n",
      "accuracy_score: 0.6833333333333333\n",
      "intercept: [-0.99999999]\n",
      "coef_: [[ 4.22172240e-07  9.38983481e-08 -1.72812615e-07]]\n",
      "\n",
      "modelo com elastic net\n",
      "accuracy_score: 0.6833333333333333\n",
      "intercept: [-1.00000004]\n",
      "coef_: [[0. 0. 0.]]\n",
      "\n",
      "******   alpha = 10  ******\n",
      "\n",
      "modelo com l1\n",
      "accuracy_score: 0.6833333333333333\n",
      "intercept: [-1.]\n",
      "coef_: [[0. 0. 0.]]\n",
      "\n",
      "modelo com l2\n",
      "accuracy_score: 0.6833333333333333\n",
      "intercept: [-1.]\n",
      "coef_: [[ 4.11025368e-08  1.22434568e-08 -1.65900116e-08]]\n",
      "\n",
      "modelo com elastic net\n",
      "accuracy_score: 0.6833333333333333\n",
      "intercept: [-1.]\n",
      "coef_: [[0. 0. 0.]]\n",
      "\n",
      "******   alpha = 100  ******\n",
      "\n",
      "modelo com l1\n",
      "accuracy_score: 0.6833333333333333\n",
      "intercept: [-0.38898908]\n",
      "coef_: [[0. 0. 0.]]\n",
      "\n",
      "modelo com l2\n",
      "accuracy_score: 0.6833333333333333\n",
      "intercept: [-0.38898908]\n",
      "coef_: [[ 0.00190847  0.00178063 -0.00224263]]\n",
      "\n",
      "modelo com elastic net\n",
      "accuracy_score: 0.6833333333333333\n",
      "intercept: [-0.38898908]\n",
      "coef_: [[0. 0. 0.]]\n",
      "\n"
     ]
    }
   ],
   "source": [
    "regularizations_strength = [0.0001, 0.01, 1, 10, 100]\n",
    "for elem in regularizations_strength:\n",
    "    print(\"******   alpha = {}  ******\\n\".format(elem))\n",
    "\n",
    "    # modelo com l1\n",
    "    model_l1 = linear_model.SGDClassifier(penalty='l1', random_state=0, alpha=elem, max_iter=100000)\n",
    "    model_l1.fit(X_train_std, y_train)\n",
    "    y_pred = model_l1.predict(X_test_std)\n",
    "    print(\"modelo com l1\")\n",
    "    print('accuracy_score: {}'.format(accuracy_score(y_test, y_pred)))\n",
    "    print('intercept: {}'.format(model_l1.intercept_))\n",
    "    print('coef_: {}\\n'.format(model_l1.coef_))\n",
    "    \n",
    "    # modelo com l2\n",
    "    model_l2 = linear_model.SGDClassifier(penalty='l2', random_state=0, alpha=elem, max_iter=100000)\n",
    "    model_l2.fit(X_train_std, y_train)\n",
    "    y_pred = model_l2.predict(X_test_std)\n",
    "    print(\"modelo com l2\")\n",
    "    print('accuracy_score: {}'.format(accuracy_score(y_test, y_pred)))\n",
    "    print('intercept: {}'.format(model_l2.intercept_))\n",
    "    print('coef_: {}\\n'.format(model_l2.coef_))\n",
    "    \n",
    "    # modelo usando elastic net\n",
    "    model_elastic_net = linear_model.SGDClassifier(penalty='elasticnet',random_state=0, alpha=elem,max_iter=100000)\n",
    "    model_elastic_net.fit(X_train_std, y_train)\n",
    "    y_pred = model_elastic_net.predict(X_test_std)\n",
    "    print(\"modelo com elastic net\")\n",
    "    print(\"accuracy_score: {}\".format(accuracy_score(y_test, y_pred)))\n",
    "    print(\"intercept: {}\".format(model_elastic_net.intercept_))\n",
    "    print(\"coef_: {}\\n\".format(model_elastic_net.coef_))"
   ]
  },
  {
   "cell_type": "code",
   "execution_count": 20,
   "metadata": {},
   "outputs": [],
   "source": [
    "from sklearn.ensemble import GradientBoostingClassifier"
   ]
  },
  {
   "cell_type": "code",
   "execution_count": 23,
   "metadata": {},
   "outputs": [
    {
     "data": {
      "text/plain": [
       "GradientBoostingClassifier(criterion='friedman_mse', init=None,\n",
       "              learning_rate=0.1, loss='deviance', max_depth=3,\n",
       "              max_features=None, max_leaf_nodes=None,\n",
       "              min_impurity_decrease=0.0, min_impurity_split=None,\n",
       "              min_samples_leaf=1, min_samples_split=2,\n",
       "              min_weight_fraction_leaf=0.0, n_estimators=100,\n",
       "              presort='auto', random_state=None, subsample=1.0, verbose=0,\n",
       "              warm_start=False)"
      ]
     },
     "execution_count": 23,
     "metadata": {},
     "output_type": "execute_result"
    }
   ],
   "source": [
    "modelo = GradientBoostingClassifier()\n",
    "\n",
    "modelo.fit(X_train, y_train)"
   ]
  },
  {
   "cell_type": "code",
   "execution_count": 24,
   "metadata": {},
   "outputs": [
    {
     "data": {
      "text/plain": [
       "array([0.24852061, 0.6214773 , 0.13000209])"
      ]
     },
     "execution_count": 24,
     "metadata": {},
     "output_type": "execute_result"
    }
   ],
   "source": [
    "modelo.feature_importances_"
   ]
  },
  {
   "cell_type": "code",
   "execution_count": null,
   "metadata": {},
   "outputs": [],
   "source": [
    "sa"
   ]
  }
 ],
 "metadata": {
  "kernelspec": {
   "display_name": "Python 3",
   "language": "python",
   "name": "python3"
  },
  "language_info": {
   "codemirror_mode": {
    "name": "ipython",
    "version": 3
   },
   "file_extension": ".py",
   "mimetype": "text/x-python",
   "name": "python",
   "nbconvert_exporter": "python",
   "pygments_lexer": "ipython3",
   "version": "3.6.4"
  }
 },
 "nbformat": 4,
 "nbformat_minor": 2
}
